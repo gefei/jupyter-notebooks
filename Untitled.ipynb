{
 "cells": [
  {
   "cell_type": "markdown",
   "id": "further-transsexual",
   "metadata": {},
   "source": [
    "This is just an example"
   ]
  },
  {
   "cell_type": "code",
   "execution_count": null,
   "id": "inappropriate-draft",
   "metadata": {},
   "outputs": [],
   "source": [
    "print(\"hello world\")"
   ]
  }
 ],
 "metadata": {
  "kernelspec": {
   "display_name": "Python 3",
   "language": "python",
   "name": "python3"
  }
 },
 "nbformat": 4,
 "nbformat_minor": 5
}
